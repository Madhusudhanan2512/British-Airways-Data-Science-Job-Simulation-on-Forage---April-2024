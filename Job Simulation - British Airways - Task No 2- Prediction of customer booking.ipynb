{
 "cells": [
  {
   "cell_type": "code",
   "execution_count": 1,
   "id": "3a463bc3-ef12-4042-a489-e1c83972f64b",
   "metadata": {},
   "outputs": [],
   "source": [
    "import numpy as np\n",
    "import pandas as pd\n",
    "import matplotlib.pyplot as plt\n",
    "import seaborn as sns"
   ]
  },
  {
   "cell_type": "code",
   "execution_count": 2,
   "id": "f7bb9afe-f71c-48be-8f8f-16b92a455c90",
   "metadata": {},
   "outputs": [],
   "source": [
    "data = pd.read_csv(\"D:\\data\\customer_booking.csv\", encoding='latin1')"
   ]
  },
  {
   "cell_type": "code",
   "execution_count": 3,
   "id": "8ca28406-7194-411f-a2bd-cc42842bf260",
   "metadata": {},
   "outputs": [
    {
     "data": {
      "text/html": [
       "<div>\n",
       "<style scoped>\n",
       "    .dataframe tbody tr th:only-of-type {\n",
       "        vertical-align: middle;\n",
       "    }\n",
       "\n",
       "    .dataframe tbody tr th {\n",
       "        vertical-align: top;\n",
       "    }\n",
       "\n",
       "    .dataframe thead th {\n",
       "        text-align: right;\n",
       "    }\n",
       "</style>\n",
       "<table border=\"1\" class=\"dataframe\">\n",
       "  <thead>\n",
       "    <tr style=\"text-align: right;\">\n",
       "      <th></th>\n",
       "      <th>num_passengers</th>\n",
       "      <th>sales_channel</th>\n",
       "      <th>trip_type</th>\n",
       "      <th>purchase_lead</th>\n",
       "      <th>length_of_stay</th>\n",
       "      <th>flight_hour</th>\n",
       "      <th>flight_day</th>\n",
       "      <th>route</th>\n",
       "      <th>booking_origin</th>\n",
       "      <th>wants_extra_baggage</th>\n",
       "      <th>wants_preferred_seat</th>\n",
       "      <th>wants_in_flight_meals</th>\n",
       "      <th>flight_duration</th>\n",
       "      <th>booking_complete</th>\n",
       "    </tr>\n",
       "  </thead>\n",
       "  <tbody>\n",
       "    <tr>\n",
       "      <th>0</th>\n",
       "      <td>2</td>\n",
       "      <td>Internet</td>\n",
       "      <td>RoundTrip</td>\n",
       "      <td>262</td>\n",
       "      <td>19</td>\n",
       "      <td>7</td>\n",
       "      <td>Sat</td>\n",
       "      <td>AKLDEL</td>\n",
       "      <td>New Zealand</td>\n",
       "      <td>1</td>\n",
       "      <td>0</td>\n",
       "      <td>0</td>\n",
       "      <td>5.52</td>\n",
       "      <td>0</td>\n",
       "    </tr>\n",
       "    <tr>\n",
       "      <th>1</th>\n",
       "      <td>1</td>\n",
       "      <td>Internet</td>\n",
       "      <td>RoundTrip</td>\n",
       "      <td>112</td>\n",
       "      <td>20</td>\n",
       "      <td>3</td>\n",
       "      <td>Sat</td>\n",
       "      <td>AKLDEL</td>\n",
       "      <td>New Zealand</td>\n",
       "      <td>0</td>\n",
       "      <td>0</td>\n",
       "      <td>0</td>\n",
       "      <td>5.52</td>\n",
       "      <td>0</td>\n",
       "    </tr>\n",
       "    <tr>\n",
       "      <th>2</th>\n",
       "      <td>2</td>\n",
       "      <td>Internet</td>\n",
       "      <td>RoundTrip</td>\n",
       "      <td>243</td>\n",
       "      <td>22</td>\n",
       "      <td>17</td>\n",
       "      <td>Wed</td>\n",
       "      <td>AKLDEL</td>\n",
       "      <td>India</td>\n",
       "      <td>1</td>\n",
       "      <td>1</td>\n",
       "      <td>0</td>\n",
       "      <td>5.52</td>\n",
       "      <td>0</td>\n",
       "    </tr>\n",
       "    <tr>\n",
       "      <th>3</th>\n",
       "      <td>1</td>\n",
       "      <td>Internet</td>\n",
       "      <td>RoundTrip</td>\n",
       "      <td>96</td>\n",
       "      <td>31</td>\n",
       "      <td>4</td>\n",
       "      <td>Sat</td>\n",
       "      <td>AKLDEL</td>\n",
       "      <td>New Zealand</td>\n",
       "      <td>0</td>\n",
       "      <td>0</td>\n",
       "      <td>1</td>\n",
       "      <td>5.52</td>\n",
       "      <td>0</td>\n",
       "    </tr>\n",
       "    <tr>\n",
       "      <th>4</th>\n",
       "      <td>2</td>\n",
       "      <td>Internet</td>\n",
       "      <td>RoundTrip</td>\n",
       "      <td>68</td>\n",
       "      <td>22</td>\n",
       "      <td>15</td>\n",
       "      <td>Wed</td>\n",
       "      <td>AKLDEL</td>\n",
       "      <td>India</td>\n",
       "      <td>1</td>\n",
       "      <td>0</td>\n",
       "      <td>1</td>\n",
       "      <td>5.52</td>\n",
       "      <td>0</td>\n",
       "    </tr>\n",
       "  </tbody>\n",
       "</table>\n",
       "</div>"
      ],
      "text/plain": [
       "   num_passengers sales_channel  trip_type  purchase_lead  length_of_stay  \\\n",
       "0               2      Internet  RoundTrip            262              19   \n",
       "1               1      Internet  RoundTrip            112              20   \n",
       "2               2      Internet  RoundTrip            243              22   \n",
       "3               1      Internet  RoundTrip             96              31   \n",
       "4               2      Internet  RoundTrip             68              22   \n",
       "\n",
       "   flight_hour flight_day   route booking_origin  wants_extra_baggage  \\\n",
       "0            7        Sat  AKLDEL    New Zealand                    1   \n",
       "1            3        Sat  AKLDEL    New Zealand                    0   \n",
       "2           17        Wed  AKLDEL          India                    1   \n",
       "3            4        Sat  AKLDEL    New Zealand                    0   \n",
       "4           15        Wed  AKLDEL          India                    1   \n",
       "\n",
       "   wants_preferred_seat  wants_in_flight_meals  flight_duration  \\\n",
       "0                     0                      0             5.52   \n",
       "1                     0                      0             5.52   \n",
       "2                     1                      0             5.52   \n",
       "3                     0                      1             5.52   \n",
       "4                     0                      1             5.52   \n",
       "\n",
       "   booking_complete  \n",
       "0                 0  \n",
       "1                 0  \n",
       "2                 0  \n",
       "3                 0  \n",
       "4                 0  "
      ]
     },
     "execution_count": 3,
     "metadata": {},
     "output_type": "execute_result"
    }
   ],
   "source": [
    "data.head()"
   ]
  },
  {
   "cell_type": "code",
   "execution_count": 4,
   "id": "21c890ea-9245-4542-b9cb-844d85729470",
   "metadata": {},
   "outputs": [
    {
     "name": "stdout",
     "output_type": "stream",
     "text": [
      "<class 'pandas.core.frame.DataFrame'>\n",
      "RangeIndex: 50000 entries, 0 to 49999\n",
      "Data columns (total 14 columns):\n",
      " #   Column                 Non-Null Count  Dtype  \n",
      "---  ------                 --------------  -----  \n",
      " 0   num_passengers         50000 non-null  int64  \n",
      " 1   sales_channel          50000 non-null  object \n",
      " 2   trip_type              50000 non-null  object \n",
      " 3   purchase_lead          50000 non-null  int64  \n",
      " 4   length_of_stay         50000 non-null  int64  \n",
      " 5   flight_hour            50000 non-null  int64  \n",
      " 6   flight_day             50000 non-null  object \n",
      " 7   route                  50000 non-null  object \n",
      " 8   booking_origin         50000 non-null  object \n",
      " 9   wants_extra_baggage    50000 non-null  int64  \n",
      " 10  wants_preferred_seat   50000 non-null  int64  \n",
      " 11  wants_in_flight_meals  50000 non-null  int64  \n",
      " 12  flight_duration        50000 non-null  float64\n",
      " 13  booking_complete       50000 non-null  int64  \n",
      "dtypes: float64(1), int64(8), object(5)\n",
      "memory usage: 5.3+ MB\n"
     ]
    }
   ],
   "source": [
    "data.info()"
   ]
  },
  {
   "cell_type": "code",
   "execution_count": 5,
   "id": "788a37ec-4e4e-4147-a761-3dcaa583f24e",
   "metadata": {},
   "outputs": [
    {
     "data": {
      "text/plain": [
       "num_passengers           0\n",
       "sales_channel            0\n",
       "trip_type                0\n",
       "purchase_lead            0\n",
       "length_of_stay           0\n",
       "flight_hour              0\n",
       "flight_day               0\n",
       "route                    0\n",
       "booking_origin           0\n",
       "wants_extra_baggage      0\n",
       "wants_preferred_seat     0\n",
       "wants_in_flight_meals    0\n",
       "flight_duration          0\n",
       "booking_complete         0\n",
       "dtype: int64"
      ]
     },
     "execution_count": 5,
     "metadata": {},
     "output_type": "execute_result"
    }
   ],
   "source": [
    "#checking for null values\n",
    "data.isnull().sum()"
   ]
  },
  {
   "cell_type": "code",
   "execution_count": 6,
   "id": "3fdf07a3-9872-44fd-be5e-bfe83e2ae1f7",
   "metadata": {},
   "outputs": [
    {
     "data": {
      "text/plain": [
       "719"
      ]
     },
     "execution_count": 6,
     "metadata": {},
     "output_type": "execute_result"
    }
   ],
   "source": [
    "#checking for duplicate values\n",
    "data.duplicated().sum()"
   ]
  },
  {
   "cell_type": "code",
   "execution_count": 7,
   "id": "688c7fca-973f-4bbf-ab3a-4fe6653ef301",
   "metadata": {},
   "outputs": [],
   "source": [
    "data.drop_duplicates(inplace=True)"
   ]
  },
  {
   "cell_type": "code",
   "execution_count": 8,
   "id": "3bcd5430-cba5-48df-854e-64408c0e92a9",
   "metadata": {},
   "outputs": [
    {
     "name": "stdout",
     "output_type": "stream",
     "text": [
      "<class 'pandas.core.frame.DataFrame'>\n",
      "Index: 49281 entries, 0 to 49999\n",
      "Data columns (total 14 columns):\n",
      " #   Column                 Non-Null Count  Dtype  \n",
      "---  ------                 --------------  -----  \n",
      " 0   num_passengers         49281 non-null  int64  \n",
      " 1   sales_channel          49281 non-null  object \n",
      " 2   trip_type              49281 non-null  object \n",
      " 3   purchase_lead          49281 non-null  int64  \n",
      " 4   length_of_stay         49281 non-null  int64  \n",
      " 5   flight_hour            49281 non-null  int64  \n",
      " 6   flight_day             49281 non-null  object \n",
      " 7   route                  49281 non-null  object \n",
      " 8   booking_origin         49281 non-null  object \n",
      " 9   wants_extra_baggage    49281 non-null  int64  \n",
      " 10  wants_preferred_seat   49281 non-null  int64  \n",
      " 11  wants_in_flight_meals  49281 non-null  int64  \n",
      " 12  flight_duration        49281 non-null  float64\n",
      " 13  booking_complete       49281 non-null  int64  \n",
      "dtypes: float64(1), int64(8), object(5)\n",
      "memory usage: 5.6+ MB\n"
     ]
    }
   ],
   "source": [
    "data.info()"
   ]
  },
  {
   "cell_type": "markdown",
   "id": "063e1f2a-d9e6-417d-9ab5-db5d34206119",
   "metadata": {},
   "source": [
    "#### Checking categorical variables"
   ]
  },
  {
   "cell_type": "code",
   "execution_count": 9,
   "id": "1591141c-13d5-43a2-815b-d03d87027c29",
   "metadata": {},
   "outputs": [
    {
     "data": {
      "text/plain": [
       "sales_channel\n",
       "Internet    43917\n",
       "Mobile       5364\n",
       "Name: count, dtype: int64"
      ]
     },
     "execution_count": 9,
     "metadata": {},
     "output_type": "execute_result"
    }
   ],
   "source": [
    "data['sales_channel'].value_counts()"
   ]
  },
  {
   "cell_type": "code",
   "execution_count": 10,
   "id": "121e914d-6972-4065-a80b-522ffcb05dcb",
   "metadata": {},
   "outputs": [
    {
     "data": {
      "text/plain": [
       "trip_type\n",
       "RoundTrip     48779\n",
       "OneWay          386\n",
       "CircleTrip      116\n",
       "Name: count, dtype: int64"
      ]
     },
     "execution_count": 10,
     "metadata": {},
     "output_type": "execute_result"
    }
   ],
   "source": [
    "data['trip_type'].value_counts()"
   ]
  },
  {
   "cell_type": "code",
   "execution_count": 11,
   "id": "11403821-65da-404a-8e6a-d86133894f2a",
   "metadata": {},
   "outputs": [
    {
     "data": {
      "text/plain": [
       "flight_day\n",
       "Mon    7988\n",
       "Wed    7562\n",
       "Tue    7558\n",
       "Thu    7323\n",
       "Fri    6685\n",
       "Sun    6442\n",
       "Sat    5723\n",
       "Name: count, dtype: int64"
      ]
     },
     "execution_count": 11,
     "metadata": {},
     "output_type": "execute_result"
    }
   ],
   "source": [
    "data['flight_day'].value_counts()"
   ]
  },
  {
   "cell_type": "markdown",
   "id": "82cfd607-b184-4f35-a1b9-fc0ecb61fad8",
   "metadata": {},
   "source": [
    "* Majority of the people have traveled on monday."
   ]
  },
  {
   "cell_type": "code",
   "execution_count": 12,
   "id": "236f1118-32f8-4fa0-b2e1-637f05a3ea9e",
   "metadata": {},
   "outputs": [
    {
     "data": {
      "text/plain": [
       "route\n",
       "AKLKUL    2620\n",
       "PENTPE     912\n",
       "MELSGN     833\n",
       "ICNSIN     793\n",
       "DMKKIX     729\n",
       "          ... \n",
       "AKLHGH       1\n",
       "JEDPDG       1\n",
       "JEDPEN       1\n",
       "DACPEK       1\n",
       "MRUXIY       1\n",
       "Name: count, Length: 799, dtype: int64"
      ]
     },
     "execution_count": 12,
     "metadata": {},
     "output_type": "execute_result"
    }
   ],
   "source": [
    "data['route'].value_counts()"
   ]
  },
  {
   "cell_type": "code",
   "execution_count": 13,
   "id": "4de23519-45e8-4a85-869d-d6d4bab80ff8",
   "metadata": {},
   "outputs": [],
   "source": [
    "top_countries = data['booking_origin'].value_counts().head(30).index.tolist()"
   ]
  },
  {
   "cell_type": "code",
   "execution_count": 14,
   "id": "ed7110e8-67fa-4161-91ef-422d665946ef",
   "metadata": {},
   "outputs": [
    {
     "data": {
      "text/plain": [
       "['Australia',\n",
       " 'Malaysia',\n",
       " 'South Korea',\n",
       " 'Japan',\n",
       " 'China',\n",
       " 'Indonesia',\n",
       " 'Taiwan',\n",
       " 'Thailand',\n",
       " 'India',\n",
       " 'New Zealand',\n",
       " 'Singapore',\n",
       " 'United States',\n",
       " 'Vietnam',\n",
       " 'Macau',\n",
       " 'Hong Kong',\n",
       " 'Philippines',\n",
       " 'United Kingdom',\n",
       " 'Brunei',\n",
       " 'Cambodia',\n",
       " '(not set)',\n",
       " 'Sri Lanka',\n",
       " 'Italy',\n",
       " 'France',\n",
       " 'Canada',\n",
       " 'Germany',\n",
       " 'Myanmar (Burma)',\n",
       " 'Netherlands',\n",
       " 'Mauritius',\n",
       " 'United Arab Emirates',\n",
       " 'Nepal']"
      ]
     },
     "execution_count": 14,
     "metadata": {},
     "output_type": "execute_result"
    }
   ],
   "source": [
    "top_countries"
   ]
  },
  {
   "cell_type": "code",
   "execution_count": 15,
   "id": "50199110-ffc3-44db-b0e5-9a84200a03e4",
   "metadata": {},
   "outputs": [],
   "source": [
    "##We will only include top countries from where the bookings have been done.\n",
    "data = data[data['booking_origin'].isin(top_countries)]"
   ]
  },
  {
   "cell_type": "code",
   "execution_count": 16,
   "id": "faedf2b3-a6f2-4da4-aeaf-9d05ca4fdf74",
   "metadata": {},
   "outputs": [
    {
     "name": "stdout",
     "output_type": "stream",
     "text": [
      "<class 'pandas.core.frame.DataFrame'>\n",
      "Index: 48817 entries, 0 to 49999\n",
      "Data columns (total 14 columns):\n",
      " #   Column                 Non-Null Count  Dtype  \n",
      "---  ------                 --------------  -----  \n",
      " 0   num_passengers         48817 non-null  int64  \n",
      " 1   sales_channel          48817 non-null  object \n",
      " 2   trip_type              48817 non-null  object \n",
      " 3   purchase_lead          48817 non-null  int64  \n",
      " 4   length_of_stay         48817 non-null  int64  \n",
      " 5   flight_hour            48817 non-null  int64  \n",
      " 6   flight_day             48817 non-null  object \n",
      " 7   route                  48817 non-null  object \n",
      " 8   booking_origin         48817 non-null  object \n",
      " 9   wants_extra_baggage    48817 non-null  int64  \n",
      " 10  wants_preferred_seat   48817 non-null  int64  \n",
      " 11  wants_in_flight_meals  48817 non-null  int64  \n",
      " 12  flight_duration        48817 non-null  float64\n",
      " 13  booking_complete       48817 non-null  int64  \n",
      "dtypes: float64(1), int64(8), object(5)\n",
      "memory usage: 5.6+ MB\n"
     ]
    }
   ],
   "source": [
    "data.info()"
   ]
  },
  {
   "cell_type": "code",
   "execution_count": 17,
   "id": "8e7c8276-2ff5-4d87-83d0-a5cc9c82e6cf",
   "metadata": {},
   "outputs": [
    {
     "data": {
      "text/plain": [
       "booking_origin\n",
       "Australia               17691\n",
       "Malaysia                 7055\n",
       "South Korea              4502\n",
       "Japan                    3819\n",
       "China                    3284\n",
       "Indonesia                2317\n",
       "Taiwan                   2042\n",
       "Thailand                 1993\n",
       "India                    1258\n",
       "New Zealand              1060\n",
       "Singapore                1034\n",
       "United States             453\n",
       "Vietnam                   386\n",
       "Macau                     301\n",
       "Hong Kong                 294\n",
       "Philippines               265\n",
       "United Kingdom            173\n",
       "Brunei                    161\n",
       "Cambodia                  131\n",
       "(not set)                  78\n",
       "Sri Lanka                  73\n",
       "France                     58\n",
       "Italy                      58\n",
       "Canada                     57\n",
       "Germany                    54\n",
       "Myanmar (Burma)            51\n",
       "Netherlands                45\n",
       "Mauritius                  43\n",
       "United Arab Emirates       42\n",
       "Nepal                      39\n",
       "Name: count, dtype: int64"
      ]
     },
     "execution_count": 17,
     "metadata": {},
     "output_type": "execute_result"
    }
   ],
   "source": [
    "data['booking_origin'].value_counts()"
   ]
  },
  {
   "cell_type": "code",
   "execution_count": 18,
   "id": "7c389931-abc5-497a-b94c-4a4fbbab1176",
   "metadata": {},
   "outputs": [
    {
     "data": {
      "text/plain": [
       "booking_complete\n",
       "0    84.992933\n",
       "1    15.007067\n",
       "Name: count, dtype: float64"
      ]
     },
     "execution_count": 18,
     "metadata": {},
     "output_type": "execute_result"
    }
   ],
   "source": [
    "data['booking_complete'].value_counts()/len(data['booking_complete'])*100"
   ]
  },
  {
   "cell_type": "code",
   "execution_count": 19,
   "id": "3c62af7d-0b45-4cab-a6d6-c95d7fb6e77d",
   "metadata": {},
   "outputs": [
    {
     "data": {
      "text/plain": [
       "wants_extra_baggage\n",
       "1    32633\n",
       "0    16184\n",
       "Name: count, dtype: int64"
      ]
     },
     "execution_count": 19,
     "metadata": {},
     "output_type": "execute_result"
    }
   ],
   "source": [
    "data['wants_extra_baggage'].value_counts()"
   ]
  },
  {
   "cell_type": "code",
   "execution_count": 20,
   "id": "f13bb5dd-169b-492d-bb82-562522bde73f",
   "metadata": {},
   "outputs": [
    {
     "data": {
      "text/plain": [
       "wants_preferred_seat\n",
       "0    34363\n",
       "1    14454\n",
       "Name: count, dtype: int64"
      ]
     },
     "execution_count": 20,
     "metadata": {},
     "output_type": "execute_result"
    }
   ],
   "source": [
    "data['wants_preferred_seat'].value_counts()"
   ]
  },
  {
   "cell_type": "code",
   "execution_count": 21,
   "id": "bf405f96-e0fa-405a-9f1a-f9ccf0756e4f",
   "metadata": {},
   "outputs": [
    {
     "data": {
      "text/plain": [
       "wants_in_flight_meals\n",
       "0    27973\n",
       "1    20844\n",
       "Name: count, dtype: int64"
      ]
     },
     "execution_count": 21,
     "metadata": {},
     "output_type": "execute_result"
    }
   ],
   "source": [
    "data['wants_in_flight_meals'].value_counts()"
   ]
  },
  {
   "cell_type": "code",
   "execution_count": 22,
   "id": "41c94ca3-1548-4ea2-b4f8-4863caecb077",
   "metadata": {},
   "outputs": [],
   "source": [
    "## We have 'not set' opiton in our country column which will be considered as null value\n",
    "\n",
    "data['booking_origin'] = data['booking_origin'].replace(\"(not set)\",None)"
   ]
  },
  {
   "cell_type": "code",
   "execution_count": 23,
   "id": "fced9bf3-1f3d-41fc-9a98-b27ff896840d",
   "metadata": {},
   "outputs": [
    {
     "data": {
      "text/plain": [
       "num_passengers            0\n",
       "sales_channel             0\n",
       "trip_type                 0\n",
       "purchase_lead             0\n",
       "length_of_stay            0\n",
       "flight_hour               0\n",
       "flight_day                0\n",
       "route                     0\n",
       "booking_origin           78\n",
       "wants_extra_baggage       0\n",
       "wants_preferred_seat      0\n",
       "wants_in_flight_meals     0\n",
       "flight_duration           0\n",
       "booking_complete          0\n",
       "dtype: int64"
      ]
     },
     "execution_count": 23,
     "metadata": {},
     "output_type": "execute_result"
    }
   ],
   "source": [
    "data.isnull().sum()"
   ]
  },
  {
   "cell_type": "code",
   "execution_count": 24,
   "id": "c07c0bcb-07d4-456a-ac39-6d055f5b5d7a",
   "metadata": {},
   "outputs": [],
   "source": [
    "data.dropna(inplace=True)"
   ]
  },
  {
   "cell_type": "code",
   "execution_count": 25,
   "id": "147068b1-4dd5-4873-b000-d81993879402",
   "metadata": {},
   "outputs": [
    {
     "name": "stdout",
     "output_type": "stream",
     "text": [
      "<class 'pandas.core.frame.DataFrame'>\n",
      "Index: 48739 entries, 0 to 49999\n",
      "Data columns (total 14 columns):\n",
      " #   Column                 Non-Null Count  Dtype  \n",
      "---  ------                 --------------  -----  \n",
      " 0   num_passengers         48739 non-null  int64  \n",
      " 1   sales_channel          48739 non-null  object \n",
      " 2   trip_type              48739 non-null  object \n",
      " 3   purchase_lead          48739 non-null  int64  \n",
      " 4   length_of_stay         48739 non-null  int64  \n",
      " 5   flight_hour            48739 non-null  int64  \n",
      " 6   flight_day             48739 non-null  object \n",
      " 7   route                  48739 non-null  object \n",
      " 8   booking_origin         48739 non-null  object \n",
      " 9   wants_extra_baggage    48739 non-null  int64  \n",
      " 10  wants_preferred_seat   48739 non-null  int64  \n",
      " 11  wants_in_flight_meals  48739 non-null  int64  \n",
      " 12  flight_duration        48739 non-null  float64\n",
      " 13  booking_complete       48739 non-null  int64  \n",
      "dtypes: float64(1), int64(8), object(5)\n",
      "memory usage: 5.6+ MB\n"
     ]
    }
   ],
   "source": [
    "data.info()"
   ]
  },
  {
   "cell_type": "code",
   "execution_count": 26,
   "id": "0f6c6c8a-76df-4da3-bc96-761964e4b43c",
   "metadata": {},
   "outputs": [
    {
     "data": {
      "text/plain": [
       "booking_complete\n",
       "0    41427\n",
       "1     7312\n",
       "Name: count, dtype: int64"
      ]
     },
     "execution_count": 26,
     "metadata": {},
     "output_type": "execute_result"
    }
   ],
   "source": [
    "data['booking_complete'].value_counts()"
   ]
  },
  {
   "cell_type": "code",
   "execution_count": 27,
   "id": "a35e7005-ed64-4e8a-a41a-f4c942bb6dc0",
   "metadata": {},
   "outputs": [
    {
     "data": {
      "image/png": "[encoded data removed]",
      "text/plain": [
       "<Figure size 640x480 with 1 Axes>"
      ]
     },
     "metadata": {},
     "output_type": "display_data"
    },
    {
     "data": {
      "image/png": "[encoded data removed]",
      "text/plain": [
       "<Figure size 640x480 with 1 Axes>"
      ]
     },
     "metadata": {},
     "output_type": "display_data"
    },
    {
     "data": {
      "image/png": "[encoded data removed]",
      "text/plain": [
       "<Figure size 640x480 with 1 Axes>"
      ]
     },
     "metadata": {},
     "output_type": "display_data"
    }
   ],
   "source": [
    "## Checking for outliers\n",
    "\n",
    "num_cols = data[['num_passengers','purchase_lead','length_of_stay']]\n",
    "\n",
    "for col in num_cols:\n",
    "    sns.boxplot(data=data,x=col)\n",
    "    plt.xlabel(col)\n",
    "    plt.show()"
   ]
  },
  {
   "cell_type": "code",
   "execution_count": 28,
   "id": "1af648ed-dc13-4a67-9976-3a995a29199c",
   "metadata": {},
   "outputs": [
    {
     "name": "stdout",
     "output_type": "stream",
     "text": [
      "Number of outliers in num_passengers: 2828\n",
      "Number of outliers in purchase_lead: 3373\n",
      "Number of outliers in length_of_stay: 3698\n"
     ]
    }
   ],
   "source": [
    "outlier_count = {}\n",
    "\n",
    "for col in num_cols:\n",
    "    q1 = data[col].quantile(0.25)\n",
    "    q3 = data[col].quantile(0.75)\n",
    "    iqr = q3 - q1\n",
    "    \n",
    "    lower_bound = q1 - 1.5 * iqr\n",
    "    upper_bound = q3 + 1.5 * iqr\n",
    "    \n",
    "    outliers = data[(data[col] < lower_bound) | (data[col] > upper_bound)]\n",
    "    outlier_count[col] = len(outliers)\n",
    "    \n",
    "for col, count in outlier_count.items():\n",
    "    print(f\"Number of outliers in {col}: {count}\")"
   ]
  },
  {
   "cell_type": "code",
   "execution_count": 29,
   "id": "dd21ba87-ef01-4ba2-87b2-e9cb671ee0bc",
   "metadata": {},
   "outputs": [
    {
     "data": {
      "text/html": [
       "<div>\n",
       "<style scoped>\n",
       "    .dataframe tbody tr th:only-of-type {\n",
       "        vertical-align: middle;\n",
       "    }\n",
       "\n",
       "    .dataframe tbody tr th {\n",
       "        vertical-align: top;\n",
       "    }\n",
       "\n",
       "    .dataframe thead th {\n",
       "        text-align: right;\n",
       "    }\n",
       "</style>\n",
       "<table border=\"1\" class=\"dataframe\">\n",
       "  <thead>\n",
       "    <tr style=\"text-align: right;\">\n",
       "      <th></th>\n",
       "      <th>num_passengers</th>\n",
       "      <th>purchase_lead</th>\n",
       "      <th>length_of_stay</th>\n",
       "    </tr>\n",
       "  </thead>\n",
       "  <tbody>\n",
       "    <tr>\n",
       "      <th>count</th>\n",
       "      <td>48739.000000</td>\n",
       "      <td>48739.000000</td>\n",
       "      <td>48739.000000</td>\n",
       "    </tr>\n",
       "    <tr>\n",
       "      <th>mean</th>\n",
       "      <td>1.590923</td>\n",
       "      <td>84.876772</td>\n",
       "      <td>23.000841</td>\n",
       "    </tr>\n",
       "    <tr>\n",
       "      <th>std</th>\n",
       "      <td>1.018156</td>\n",
       "      <td>90.574287</td>\n",
       "      <td>33.759930</td>\n",
       "    </tr>\n",
       "    <tr>\n",
       "      <th>min</th>\n",
       "      <td>1.000000</td>\n",
       "      <td>0.000000</td>\n",
       "      <td>0.000000</td>\n",
       "    </tr>\n",
       "    <tr>\n",
       "      <th>25%</th>\n",
       "      <td>1.000000</td>\n",
       "      <td>21.000000</td>\n",
       "      <td>5.000000</td>\n",
       "    </tr>\n",
       "    <tr>\n",
       "      <th>50%</th>\n",
       "      <td>1.000000</td>\n",
       "      <td>51.000000</td>\n",
       "      <td>17.000000</td>\n",
       "    </tr>\n",
       "    <tr>\n",
       "      <th>75%</th>\n",
       "      <td>2.000000</td>\n",
       "      <td>115.000000</td>\n",
       "      <td>28.000000</td>\n",
       "    </tr>\n",
       "    <tr>\n",
       "      <th>max</th>\n",
       "      <td>9.000000</td>\n",
       "      <td>867.000000</td>\n",
       "      <td>778.000000</td>\n",
       "    </tr>\n",
       "  </tbody>\n",
       "</table>\n",
       "</div>"
      ],
      "text/plain": [
       "       num_passengers  purchase_lead  length_of_stay\n",
       "count    48739.000000   48739.000000    48739.000000\n",
       "mean         1.590923      84.876772       23.000841\n",
       "std          1.018156      90.574287       33.759930\n",
       "min          1.000000       0.000000        0.000000\n",
       "25%          1.000000      21.000000        5.000000\n",
       "50%          1.000000      51.000000       17.000000\n",
       "75%          2.000000     115.000000       28.000000\n",
       "max          9.000000     867.000000      778.000000"
      ]
     },
     "execution_count": 29,
     "metadata": {},
     "output_type": "execute_result"
    }
   ],
   "source": [
    "num_cols.describe()"
   ]
  },
  {
   "cell_type": "code",
   "execution_count": 30,
   "id": "c34a051c-a416-48bd-aadf-53611a77380e",
   "metadata": {},
   "outputs": [],
   "source": [
    "## Checking for multicollinearity \n",
    "\n",
    "from statsmodels.stats.outliers_influence import variance_inflation_factor"
   ]
  },
  {
   "cell_type": "code",
   "execution_count": 31,
   "id": "d30beb04-c151-4f37-afb9-eeef34f70757",
   "metadata": {},
   "outputs": [],
   "source": [
    "from sklearn.preprocessing import LabelEncoder\n",
    "le = LabelEncoder()\n",
    "\n",
    "for col in data.columns:\n",
    "    if data[col].dtypes == 'object':\n",
    "        data[col] = le.fit_transform(data[col])"
   ]
  },
  {
   "cell_type": "code",
   "execution_count": 32,
   "id": "fc9462bf-b972-4a54-8f39-58bca3253639",
   "metadata": {},
   "outputs": [],
   "source": [
    "x = data.drop('booking_complete',axis=1)\n",
    "y = data['booking_complete']"
   ]
  },
  {
   "cell_type": "code",
   "execution_count": 33,
   "id": "98a279eb-649a-49c9-9927-2a66acdda7f6",
   "metadata": {},
   "outputs": [
    {
     "data": {
      "text/html": [
       "<div>\n",
       "<style scoped>\n",
       "    .dataframe tbody tr th:only-of-type {\n",
       "        vertical-align: middle;\n",
       "    }\n",
       "\n",
       "    .dataframe tbody tr th {\n",
       "        vertical-align: top;\n",
       "    }\n",
       "\n",
       "    .dataframe thead th {\n",
       "        text-align: right;\n",
       "    }\n",
       "</style>\n",
       "<table border=\"1\" class=\"dataframe\">\n",
       "  <thead>\n",
       "    <tr style=\"text-align: right;\">\n",
       "      <th></th>\n",
       "      <th>columns</th>\n",
       "      <th>VIF_values</th>\n",
       "    </tr>\n",
       "  </thead>\n",
       "  <tbody>\n",
       "    <tr>\n",
       "      <th>0</th>\n",
       "      <td>num_passengers</td>\n",
       "      <td>3.723685</td>\n",
       "    </tr>\n",
       "    <tr>\n",
       "      <th>1</th>\n",
       "      <td>sales_channel</td>\n",
       "      <td>1.135329</td>\n",
       "    </tr>\n",
       "    <tr>\n",
       "      <th>2</th>\n",
       "      <td>trip_type</td>\n",
       "      <td>38.055176</td>\n",
       "    </tr>\n",
       "    <tr>\n",
       "      <th>3</th>\n",
       "      <td>purchase_lead</td>\n",
       "      <td>2.020063</td>\n",
       "    </tr>\n",
       "    <tr>\n",
       "      <th>4</th>\n",
       "      <td>length_of_stay</td>\n",
       "      <td>1.587491</td>\n",
       "    </tr>\n",
       "    <tr>\n",
       "      <th>5</th>\n",
       "      <td>flight_hour</td>\n",
       "      <td>3.787941</td>\n",
       "    </tr>\n",
       "    <tr>\n",
       "      <th>6</th>\n",
       "      <td>flight_day</td>\n",
       "      <td>3.264772</td>\n",
       "    </tr>\n",
       "    <tr>\n",
       "      <th>7</th>\n",
       "      <td>route</td>\n",
       "      <td>4.064154</td>\n",
       "    </tr>\n",
       "    <tr>\n",
       "      <th>8</th>\n",
       "      <td>booking_origin</td>\n",
       "      <td>2.243908</td>\n",
       "    </tr>\n",
       "    <tr>\n",
       "      <th>9</th>\n",
       "      <td>wants_extra_baggage</td>\n",
       "      <td>3.395438</td>\n",
       "    </tr>\n",
       "    <tr>\n",
       "      <th>10</th>\n",
       "      <td>wants_preferred_seat</td>\n",
       "      <td>1.624974</td>\n",
       "    </tr>\n",
       "    <tr>\n",
       "      <th>11</th>\n",
       "      <td>wants_in_flight_meals</td>\n",
       "      <td>2.036006</td>\n",
       "    </tr>\n",
       "    <tr>\n",
       "      <th>12</th>\n",
       "      <td>flight_duration</td>\n",
       "      <td>24.315518</td>\n",
       "    </tr>\n",
       "  </tbody>\n",
       "</table>\n",
       "</div>"
      ],
      "text/plain": [
       "                  columns  VIF_values\n",
       "0          num_passengers    3.723685\n",
       "1           sales_channel    1.135329\n",
       "2               trip_type   38.055176\n",
       "3           purchase_lead    2.020063\n",
       "4          length_of_stay    1.587491\n",
       "5             flight_hour    3.787941\n",
       "6              flight_day    3.264772\n",
       "7                   route    4.064154\n",
       "8          booking_origin    2.243908\n",
       "9     wants_extra_baggage    3.395438\n",
       "10   wants_preferred_seat    1.624974\n",
       "11  wants_in_flight_meals    2.036006\n",
       "12        flight_duration   24.315518"
      ]
     },
     "execution_count": 33,
     "metadata": {},
     "output_type": "execute_result"
    }
   ],
   "source": [
    "vif_dataframe = pd.DataFrame()\n",
    "vif_dataframe[\"columns\"] = x.columns\n",
    "vif_dataframe[\"VIF_values\"] = [variance_inflation_factor(x.values,i) for i in range(len(x.columns))]\n",
    "vif_dataframe"
   ]
  },
  {
   "cell_type": "markdown",
   "id": "9b4c1841-b26e-47df-a6ec-f4e871b7da46",
   "metadata": {},
   "source": [
    "### We will run logistic regression with and with outliers and multicollinearity to check which approch gives better results."
   ]
  },
  {
   "cell_type": "code",
   "execution_count": 34,
   "id": "e2080778-f283-4500-a564-8b7c14db1c4b",
   "metadata": {},
   "outputs": [],
   "source": [
    "## Scaling the data\n",
    "from sklearn.preprocessing import StandardScaler\n",
    "scaler = StandardScaler()\n",
    "scaled_X = scaler.fit_transform(x)"
   ]
  },
  {
   "cell_type": "code",
   "execution_count": 35,
   "id": "ea1ad534-cbdd-4d76-be22-dea65ae536d6",
   "metadata": {},
   "outputs": [
    {
     "data": {
      "text/plain": [
       "((34117, 13), (14622, 13), (34117,), (14622,))"
      ]
     },
     "execution_count": 35,
     "metadata": {},
     "output_type": "execute_result"
    }
   ],
   "source": [
    "## Spliting the data\n",
    "\n",
    "from sklearn.model_selection import train_test_split\n",
    "x_train,x_test,y_train,y_test = train_test_split(scaled_X,y,train_size=0.70,stratify = y)\n",
    "x_train.shape,x_test.shape,y_train.shape,y_test.shape"
   ]
  },
  {
   "cell_type": "code",
   "execution_count": 36,
   "id": "c78455e4-d7a7-4ebe-b2ba-eb8131a07287",
   "metadata": {},
   "outputs": [],
   "source": [
    "## Building Logistic Regression model\n",
    "\n",
    "from sklearn.linear_model import LogisticRegression\n",
    "classifier = LogisticRegression(class_weight='balanced')"
   ]
  },
  {
   "cell_type": "code",
   "execution_count": 37,
   "id": "201e3c8f-b383-4458-a8de-290ec76a9aaa",
   "metadata": {},
   "outputs": [],
   "source": [
    "classifier.fit(x_train,y_train)\n",
    "\n",
    "predicted_values_tr = classifier.predict(x_train)\n",
    "predicted_proba_tr = classifier.predict_proba(x_train)\n",
    "\n",
    "predicted_values_ts = classifier.predict(x_test)\n",
    "predcited_proba_ts = classifier.predict_proba(x_test)\n"
   ]
  },
  {
   "cell_type": "code",
   "execution_count": 38,
   "id": "92b826e4-939e-45ad-b126-ef22e3b3cee9",
   "metadata": {},
   "outputs": [],
   "source": [
    "from sklearn.metrics import classification_report"
   ]
  },
  {
   "cell_type": "code",
   "execution_count": 39,
   "id": "cf55ef6c-8413-4d78-a7bf-19299412ca4c",
   "metadata": {},
   "outputs": [
    {
     "name": "stdout",
     "output_type": "stream",
     "text": [
      "              precision    recall  f1-score   support\n",
      "\n",
      "           0       0.91      0.60      0.72     28999\n",
      "           1       0.22      0.65      0.33      5118\n",
      "\n",
      "    accuracy                           0.61     34117\n",
      "   macro avg       0.56      0.62      0.53     34117\n",
      "weighted avg       0.80      0.61      0.66     34117\n",
      "\n"
     ]
    }
   ],
   "source": [
    "print(classification_report(y_train,predicted_values_tr))"
   ]
  },
  {
   "cell_type": "code",
   "execution_count": 40,
   "id": "46a75dc7-bc7d-4ede-b704-a75d9c5893a6",
   "metadata": {},
   "outputs": [
    {
     "name": "stdout",
     "output_type": "stream",
     "text": [
      "              precision    recall  f1-score   support\n",
      "\n",
      "           0       0.91      0.60      0.72     12428\n",
      "           1       0.22      0.65      0.33      2194\n",
      "\n",
      "    accuracy                           0.61     14622\n",
      "   macro avg       0.57      0.63      0.53     14622\n",
      "weighted avg       0.80      0.61      0.67     14622\n",
      "\n"
     ]
    }
   ],
   "source": [
    "print(classification_report(y_test,predicted_values_ts))"
   ]
  },
  {
   "cell_type": "markdown",
   "id": "11e87d99-4d4b-444c-8dd0-90dce02be02b",
   "metadata": {},
   "source": [
    "* We got 60% accuracy score"
   ]
  },
  {
   "cell_type": "markdown",
   "id": "d3a182f2-8720-4448-810e-7c378dedf250",
   "metadata": {},
   "source": [
    "### Lest run the models without ouliers and multicollinearity"
   ]
  },
  {
   "cell_type": "code",
   "execution_count": 41,
   "id": "b2356da9-ff19-4cd6-b5d2-3b2cd78cce4b",
   "metadata": {},
   "outputs": [],
   "source": [
    "data.to_csv('clean_data_.csv', index=False)"
   ]
  },
  {
   "cell_type": "code",
   "execution_count": 42,
   "id": "6cf94d51-0ad8-4d69-ac0e-39a1bf0006a4",
   "metadata": {},
   "outputs": [],
   "source": [
    "num_cols2 = data[['num_passengers','purchase_lead','length_of_stay']]"
   ]
  },
  {
   "cell_type": "code",
   "execution_count": 43,
   "id": "7a764e3a-4ea6-4e45-b0c3-d5ac60ec807a",
   "metadata": {},
   "outputs": [],
   "source": [
    "for col in num_cols2:\n",
    "    \n",
    "    Q1 = data[col].quantile(0.25)\n",
    "    Q3 = data[col].quantile(0.75)\n",
    "    \n",
    "    iqr = Q3-Q1\n",
    "    \n",
    "    Ul = Q3 + 1.5*iqr\n",
    "    ll = Q1 - 1.5*iqr \n",
    "    \n",
    "    new_data = data[(data[col]>=ll)& (data[col]<=Ul)]"
   ]
  },
  {
   "cell_type": "code",
   "execution_count": 44,
   "id": "437a4f0f-2dfc-46a7-a1f0-7a8d47de8645",
   "metadata": {},
   "outputs": [
    {
     "name": "stdout",
     "output_type": "stream",
     "text": [
      "<class 'pandas.core.frame.DataFrame'>\n",
      "Index: 45041 entries, 0 to 49999\n",
      "Data columns (total 14 columns):\n",
      " #   Column                 Non-Null Count  Dtype  \n",
      "---  ------                 --------------  -----  \n",
      " 0   num_passengers         45041 non-null  int64  \n",
      " 1   sales_channel          45041 non-null  int32  \n",
      " 2   trip_type              45041 non-null  int32  \n",
      " 3   purchase_lead          45041 non-null  int64  \n",
      " 4   length_of_stay         45041 non-null  int64  \n",
      " 5   flight_hour            45041 non-null  int64  \n",
      " 6   flight_day             45041 non-null  int32  \n",
      " 7   route                  45041 non-null  int32  \n",
      " 8   booking_origin         45041 non-null  int32  \n",
      " 9   wants_extra_baggage    45041 non-null  int64  \n",
      " 10  wants_preferred_seat   45041 non-null  int64  \n",
      " 11  wants_in_flight_meals  45041 non-null  int64  \n",
      " 12  flight_duration        45041 non-null  float64\n",
      " 13  booking_complete       45041 non-null  int64  \n",
      "dtypes: float64(1), int32(5), int64(8)\n",
      "memory usage: 4.3 MB\n"
     ]
    }
   ],
   "source": [
    "new_data.info()"
   ]
  },
  {
   "cell_type": "code",
   "execution_count": 45,
   "id": "37af84a0-a269-4aae-ba9b-c8425eda585e",
   "metadata": {},
   "outputs": [],
   "source": [
    "X= new_data.drop('booking_complete',axis=1)\n",
    "Y= new_data['booking_complete']"
   ]
  },
  {
   "cell_type": "code",
   "execution_count": 46,
   "id": "56482eb4-9dd3-4651-8999-45539af1cd00",
   "metadata": {},
   "outputs": [
    {
     "data": {
      "text/html": [
       "<div>\n",
       "<style scoped>\n",
       "    .dataframe tbody tr th:only-of-type {\n",
       "        vertical-align: middle;\n",
       "    }\n",
       "\n",
       "    .dataframe tbody tr th {\n",
       "        vertical-align: top;\n",
       "    }\n",
       "\n",
       "    .dataframe thead th {\n",
       "        text-align: right;\n",
       "    }\n",
       "</style>\n",
       "<table border=\"1\" class=\"dataframe\">\n",
       "  <thead>\n",
       "    <tr style=\"text-align: right;\">\n",
       "      <th></th>\n",
       "      <th>num_passengers</th>\n",
       "      <th>sales_channel</th>\n",
       "      <th>trip_type</th>\n",
       "      <th>purchase_lead</th>\n",
       "      <th>length_of_stay</th>\n",
       "      <th>flight_hour</th>\n",
       "      <th>flight_day</th>\n",
       "      <th>route</th>\n",
       "      <th>booking_origin</th>\n",
       "      <th>wants_extra_baggage</th>\n",
       "      <th>wants_preferred_seat</th>\n",
       "      <th>wants_in_flight_meals</th>\n",
       "      <th>flight_duration</th>\n",
       "    </tr>\n",
       "  </thead>\n",
       "  <tbody>\n",
       "    <tr>\n",
       "      <th>0</th>\n",
       "      <td>2</td>\n",
       "      <td>0</td>\n",
       "      <td>2</td>\n",
       "      <td>262</td>\n",
       "      <td>19</td>\n",
       "      <td>7</td>\n",
       "      <td>2</td>\n",
       "      <td>0</td>\n",
       "      <td>18</td>\n",
       "      <td>1</td>\n",
       "      <td>0</td>\n",
       "      <td>0</td>\n",
       "      <td>5.52</td>\n",
       "    </tr>\n",
       "    <tr>\n",
       "      <th>1</th>\n",
       "      <td>1</td>\n",
       "      <td>0</td>\n",
       "      <td>2</td>\n",
       "      <td>112</td>\n",
       "      <td>20</td>\n",
       "      <td>3</td>\n",
       "      <td>2</td>\n",
       "      <td>0</td>\n",
       "      <td>18</td>\n",
       "      <td>0</td>\n",
       "      <td>0</td>\n",
       "      <td>0</td>\n",
       "      <td>5.52</td>\n",
       "    </tr>\n",
       "    <tr>\n",
       "      <th>2</th>\n",
       "      <td>2</td>\n",
       "      <td>0</td>\n",
       "      <td>2</td>\n",
       "      <td>243</td>\n",
       "      <td>22</td>\n",
       "      <td>17</td>\n",
       "      <td>6</td>\n",
       "      <td>0</td>\n",
       "      <td>8</td>\n",
       "      <td>1</td>\n",
       "      <td>1</td>\n",
       "      <td>0</td>\n",
       "      <td>5.52</td>\n",
       "    </tr>\n",
       "    <tr>\n",
       "      <th>3</th>\n",
       "      <td>1</td>\n",
       "      <td>0</td>\n",
       "      <td>2</td>\n",
       "      <td>96</td>\n",
       "      <td>31</td>\n",
       "      <td>4</td>\n",
       "      <td>2</td>\n",
       "      <td>0</td>\n",
       "      <td>18</td>\n",
       "      <td>0</td>\n",
       "      <td>0</td>\n",
       "      <td>1</td>\n",
       "      <td>5.52</td>\n",
       "    </tr>\n",
       "    <tr>\n",
       "      <th>4</th>\n",
       "      <td>2</td>\n",
       "      <td>0</td>\n",
       "      <td>2</td>\n",
       "      <td>68</td>\n",
       "      <td>22</td>\n",
       "      <td>15</td>\n",
       "      <td>6</td>\n",
       "      <td>0</td>\n",
       "      <td>8</td>\n",
       "      <td>1</td>\n",
       "      <td>0</td>\n",
       "      <td>1</td>\n",
       "      <td>5.52</td>\n",
       "    </tr>\n",
       "  </tbody>\n",
       "</table>\n",
       "</div>"
      ],
      "text/plain": [
       "   num_passengers  sales_channel  trip_type  purchase_lead  length_of_stay  \\\n",
       "0               2              0          2            262              19   \n",
       "1               1              0          2            112              20   \n",
       "2               2              0          2            243              22   \n",
       "3               1              0          2             96              31   \n",
       "4               2              0          2             68              22   \n",
       "\n",
       "   flight_hour  flight_day  route  booking_origin  wants_extra_baggage  \\\n",
       "0            7           2      0              18                    1   \n",
       "1            3           2      0              18                    0   \n",
       "2           17           6      0               8                    1   \n",
       "3            4           2      0              18                    0   \n",
       "4           15           6      0               8                    1   \n",
       "\n",
       "   wants_preferred_seat  wants_in_flight_meals  flight_duration  \n",
       "0                     0                      0             5.52  \n",
       "1                     0                      0             5.52  \n",
       "2                     1                      0             5.52  \n",
       "3                     0                      1             5.52  \n",
       "4                     0                      1             5.52  "
      ]
     },
     "execution_count": 46,
     "metadata": {},
     "output_type": "execute_result"
    }
   ],
   "source": [
    "X.head()"
   ]
  },
  {
   "cell_type": "code",
   "execution_count": 47,
   "id": "d6d2d52b-5821-4899-af69-e633e2f1baa2",
   "metadata": {},
   "outputs": [
    {
     "data": {
      "text/html": [
       "<div>\n",
       "<style scoped>\n",
       "    .dataframe tbody tr th:only-of-type {\n",
       "        vertical-align: middle;\n",
       "    }\n",
       "\n",
       "    .dataframe tbody tr th {\n",
       "        vertical-align: top;\n",
       "    }\n",
       "\n",
       "    .dataframe thead th {\n",
       "        text-align: right;\n",
       "    }\n",
       "</style>\n",
       "<table border=\"1\" class=\"dataframe\">\n",
       "  <thead>\n",
       "    <tr style=\"text-align: right;\">\n",
       "      <th></th>\n",
       "      <th>columns</th>\n",
       "      <th>VIF_values</th>\n",
       "    </tr>\n",
       "  </thead>\n",
       "  <tbody>\n",
       "    <tr>\n",
       "      <th>0</th>\n",
       "      <td>num_passengers</td>\n",
       "      <td>3.737086</td>\n",
       "    </tr>\n",
       "    <tr>\n",
       "      <th>1</th>\n",
       "      <td>sales_channel</td>\n",
       "      <td>1.140575</td>\n",
       "    </tr>\n",
       "    <tr>\n",
       "      <th>2</th>\n",
       "      <td>trip_type</td>\n",
       "      <td>38.426934</td>\n",
       "    </tr>\n",
       "    <tr>\n",
       "      <th>3</th>\n",
       "      <td>purchase_lead</td>\n",
       "      <td>2.034836</td>\n",
       "    </tr>\n",
       "    <tr>\n",
       "      <th>4</th>\n",
       "      <td>length_of_stay</td>\n",
       "      <td>2.671437</td>\n",
       "    </tr>\n",
       "    <tr>\n",
       "      <th>5</th>\n",
       "      <td>flight_hour</td>\n",
       "      <td>3.801642</td>\n",
       "    </tr>\n",
       "    <tr>\n",
       "      <th>6</th>\n",
       "      <td>flight_day</td>\n",
       "      <td>3.266717</td>\n",
       "    </tr>\n",
       "    <tr>\n",
       "      <th>7</th>\n",
       "      <td>route</td>\n",
       "      <td>4.095552</td>\n",
       "    </tr>\n",
       "    <tr>\n",
       "      <th>8</th>\n",
       "      <td>booking_origin</td>\n",
       "      <td>2.346413</td>\n",
       "    </tr>\n",
       "    <tr>\n",
       "      <th>9</th>\n",
       "      <td>wants_extra_baggage</td>\n",
       "      <td>3.360513</td>\n",
       "    </tr>\n",
       "    <tr>\n",
       "      <th>10</th>\n",
       "      <td>wants_preferred_seat</td>\n",
       "      <td>1.618870</td>\n",
       "    </tr>\n",
       "    <tr>\n",
       "      <th>11</th>\n",
       "      <td>wants_in_flight_meals</td>\n",
       "      <td>1.988216</td>\n",
       "    </tr>\n",
       "    <tr>\n",
       "      <th>12</th>\n",
       "      <td>flight_duration</td>\n",
       "      <td>24.380942</td>\n",
       "    </tr>\n",
       "  </tbody>\n",
       "</table>\n",
       "</div>"
      ],
      "text/plain": [
       "                  columns  VIF_values\n",
       "0          num_passengers    3.737086\n",
       "1           sales_channel    1.140575\n",
       "2               trip_type   38.426934\n",
       "3           purchase_lead    2.034836\n",
       "4          length_of_stay    2.671437\n",
       "5             flight_hour    3.801642\n",
       "6              flight_day    3.266717\n",
       "7                   route    4.095552\n",
       "8          booking_origin    2.346413\n",
       "9     wants_extra_baggage    3.360513\n",
       "10   wants_preferred_seat    1.618870\n",
       "11  wants_in_flight_meals    1.988216\n",
       "12        flight_duration   24.380942"
      ]
     },
     "execution_count": 47,
     "metadata": {},
     "output_type": "execute_result"
    }
   ],
   "source": [
    "vif_dataframe = pd.DataFrame()\n",
    "vif_dataframe[\"columns\"] = X.columns\n",
    "vif_dataframe[\"VIF_values\"] = [variance_inflation_factor(X.values,i) for i in range(len(X.columns))]\n",
    "vif_dataframe"
   ]
  },
  {
   "cell_type": "code",
   "execution_count": 48,
   "id": "9e001338-7391-41a4-af09-e79c9a4d6d5b",
   "metadata": {},
   "outputs": [],
   "source": [
    "X.drop('trip_type',axis=1,inplace=True)"
   ]
  },
  {
   "cell_type": "code",
   "execution_count": 49,
   "id": "dda4f3fb-919a-445e-811f-bb7aa495a838",
   "metadata": {},
   "outputs": [
    {
     "data": {
      "text/html": [
       "<div>\n",
       "<style scoped>\n",
       "    .dataframe tbody tr th:only-of-type {\n",
       "        vertical-align: middle;\n",
       "    }\n",
       "\n",
       "    .dataframe tbody tr th {\n",
       "        vertical-align: top;\n",
       "    }\n",
       "\n",
       "    .dataframe thead th {\n",
       "        text-align: right;\n",
       "    }\n",
       "</style>\n",
       "<table border=\"1\" class=\"dataframe\">\n",
       "  <thead>\n",
       "    <tr style=\"text-align: right;\">\n",
       "      <th></th>\n",
       "      <th>columns</th>\n",
       "      <th>VIF_values</th>\n",
       "    </tr>\n",
       "  </thead>\n",
       "  <tbody>\n",
       "    <tr>\n",
       "      <th>0</th>\n",
       "      <td>num_passengers</td>\n",
       "      <td>3.535525</td>\n",
       "    </tr>\n",
       "    <tr>\n",
       "      <th>1</th>\n",
       "      <td>sales_channel</td>\n",
       "      <td>1.129465</td>\n",
       "    </tr>\n",
       "    <tr>\n",
       "      <th>2</th>\n",
       "      <td>purchase_lead</td>\n",
       "      <td>2.031792</td>\n",
       "    </tr>\n",
       "    <tr>\n",
       "      <th>3</th>\n",
       "      <td>length_of_stay</td>\n",
       "      <td>2.635472</td>\n",
       "    </tr>\n",
       "    <tr>\n",
       "      <th>4</th>\n",
       "      <td>flight_hour</td>\n",
       "      <td>3.630743</td>\n",
       "    </tr>\n",
       "    <tr>\n",
       "      <th>5</th>\n",
       "      <td>flight_day</td>\n",
       "      <td>3.132708</td>\n",
       "    </tr>\n",
       "    <tr>\n",
       "      <th>6</th>\n",
       "      <td>route</td>\n",
       "      <td>3.524681</td>\n",
       "    </tr>\n",
       "    <tr>\n",
       "      <th>7</th>\n",
       "      <td>booking_origin</td>\n",
       "      <td>2.080270</td>\n",
       "    </tr>\n",
       "    <tr>\n",
       "      <th>8</th>\n",
       "      <td>wants_extra_baggage</td>\n",
       "      <td>3.341639</td>\n",
       "    </tr>\n",
       "    <tr>\n",
       "      <th>9</th>\n",
       "      <td>wants_preferred_seat</td>\n",
       "      <td>1.618859</td>\n",
       "    </tr>\n",
       "    <tr>\n",
       "      <th>10</th>\n",
       "      <td>wants_in_flight_meals</td>\n",
       "      <td>1.988209</td>\n",
       "    </tr>\n",
       "    <tr>\n",
       "      <th>11</th>\n",
       "      <td>flight_duration</td>\n",
       "      <td>10.433131</td>\n",
       "    </tr>\n",
       "  </tbody>\n",
       "</table>\n",
       "</div>"
      ],
      "text/plain": [
       "                  columns  VIF_values\n",
       "0          num_passengers    3.535525\n",
       "1           sales_channel    1.129465\n",
       "2           purchase_lead    2.031792\n",
       "3          length_of_stay    2.635472\n",
       "4             flight_hour    3.630743\n",
       "5              flight_day    3.132708\n",
       "6                   route    3.524681\n",
       "7          booking_origin    2.080270\n",
       "8     wants_extra_baggage    3.341639\n",
       "9    wants_preferred_seat    1.618859\n",
       "10  wants_in_flight_meals    1.988209\n",
       "11        flight_duration   10.433131"
      ]
     },
     "execution_count": 49,
     "metadata": {},
     "output_type": "execute_result"
    }
   ],
   "source": [
    "vif_dataframe = pd.DataFrame()\n",
    "vif_dataframe[\"columns\"] = X.columns\n",
    "vif_dataframe[\"VIF_values\"] = [variance_inflation_factor(X.values,i) for i in range(len(X.columns))]\n",
    "vif_dataframe"
   ]
  },
  {
   "cell_type": "code",
   "execution_count": 50,
   "id": "6385474c-c092-4842-9090-363b9d174339",
   "metadata": {},
   "outputs": [],
   "source": [
    "X.drop('flight_duration',axis=1,inplace=True)"
   ]
  },
  {
   "cell_type": "code",
   "execution_count": 51,
   "id": "6fabaf45-19d7-48bb-b9ba-d13937a3c4d1",
   "metadata": {},
   "outputs": [
    {
     "data": {
      "text/html": [
       "<div>\n",
       "<style scoped>\n",
       "    .dataframe tbody tr th:only-of-type {\n",
       "        vertical-align: middle;\n",
       "    }\n",
       "\n",
       "    .dataframe tbody tr th {\n",
       "        vertical-align: top;\n",
       "    }\n",
       "\n",
       "    .dataframe thead th {\n",
       "        text-align: right;\n",
       "    }\n",
       "</style>\n",
       "<table border=\"1\" class=\"dataframe\">\n",
       "  <thead>\n",
       "    <tr style=\"text-align: right;\">\n",
       "      <th></th>\n",
       "      <th>columns</th>\n",
       "      <th>VIF_values</th>\n",
       "    </tr>\n",
       "  </thead>\n",
       "  <tbody>\n",
       "    <tr>\n",
       "      <th>0</th>\n",
       "      <td>num_passengers</td>\n",
       "      <td>3.350731</td>\n",
       "    </tr>\n",
       "    <tr>\n",
       "      <th>1</th>\n",
       "      <td>sales_channel</td>\n",
       "      <td>1.121573</td>\n",
       "    </tr>\n",
       "    <tr>\n",
       "      <th>2</th>\n",
       "      <td>purchase_lead</td>\n",
       "      <td>1.948285</td>\n",
       "    </tr>\n",
       "    <tr>\n",
       "      <th>3</th>\n",
       "      <td>length_of_stay</td>\n",
       "      <td>2.336961</td>\n",
       "    </tr>\n",
       "    <tr>\n",
       "      <th>4</th>\n",
       "      <td>flight_hour</td>\n",
       "      <td>3.278333</td>\n",
       "    </tr>\n",
       "    <tr>\n",
       "      <th>5</th>\n",
       "      <td>flight_day</td>\n",
       "      <td>2.852401</td>\n",
       "    </tr>\n",
       "    <tr>\n",
       "      <th>6</th>\n",
       "      <td>route</td>\n",
       "      <td>3.193613</td>\n",
       "    </tr>\n",
       "    <tr>\n",
       "      <th>7</th>\n",
       "      <td>booking_origin</td>\n",
       "      <td>2.039427</td>\n",
       "    </tr>\n",
       "    <tr>\n",
       "      <th>8</th>\n",
       "      <td>wants_extra_baggage</td>\n",
       "      <td>3.297488</td>\n",
       "    </tr>\n",
       "    <tr>\n",
       "      <th>9</th>\n",
       "      <td>wants_preferred_seat</td>\n",
       "      <td>1.606665</td>\n",
       "    </tr>\n",
       "    <tr>\n",
       "      <th>10</th>\n",
       "      <td>wants_in_flight_meals</td>\n",
       "      <td>1.934786</td>\n",
       "    </tr>\n",
       "  </tbody>\n",
       "</table>\n",
       "</div>"
      ],
      "text/plain": [
       "                  columns  VIF_values\n",
       "0          num_passengers    3.350731\n",
       "1           sales_channel    1.121573\n",
       "2           purchase_lead    1.948285\n",
       "3          length_of_stay    2.336961\n",
       "4             flight_hour    3.278333\n",
       "5              flight_day    2.852401\n",
       "6                   route    3.193613\n",
       "7          booking_origin    2.039427\n",
       "8     wants_extra_baggage    3.297488\n",
       "9    wants_preferred_seat    1.606665\n",
       "10  wants_in_flight_meals    1.934786"
      ]
     },
     "execution_count": 51,
     "metadata": {},
     "output_type": "execute_result"
    }
   ],
   "source": [
    "vif_dataframe = pd.DataFrame()\n",
    "vif_dataframe[\"columns\"] = X.columns\n",
    "vif_dataframe[\"VIF_values\"] = [variance_inflation_factor(X.values,i) for i in range(len(X.columns))]\n",
    "vif_dataframe"
   ]
  },
  {
   "cell_type": "code",
   "execution_count": 52,
   "id": "4fbc6f3f-28e8-4396-aebf-bc07f691d6db",
   "metadata": {},
   "outputs": [],
   "source": [
    "scaled_x = scaler.fit_transform(X)"
   ]
  },
  {
   "cell_type": "code",
   "execution_count": 53,
   "id": "e513005d-f672-4a37-b3e3-0886b26f9ef9",
   "metadata": {},
   "outputs": [
    {
     "data": {
      "text/plain": [
       "((31528, 11), (13513, 11), (31528,), (13513,))"
      ]
     },
     "execution_count": 53,
     "metadata": {},
     "output_type": "execute_result"
    }
   ],
   "source": [
    "X_train,X_test,Y_train,Y_test = train_test_split(scaled_x,Y,train_size=0.70,stratify = Y)\n",
    "X_train.shape,X_test.shape,Y_train.shape,Y_test.shape"
   ]
  },
  {
   "cell_type": "code",
   "execution_count": 61,
   "id": "46653104-5e25-4edb-8d2f-d11a7fb20616",
   "metadata": {},
   "outputs": [],
   "source": [
    "classifier2 = LogisticRegression(class_weight='balanced')"
   ]
  },
  {
   "cell_type": "code",
   "execution_count": 62,
   "id": "898a2e74-cb80-48df-82cf-6c29703072c8",
   "metadata": {},
   "outputs": [
    {
     "data": {
      "text/html": [
       "<style>#sk-container-id-2 {color: black;}#sk-container-id-2 pre{padding: 0;}#sk-container-id-2 div.sk-toggleable {background-color: white;}#sk-container-id-2 label.sk-toggleable__label {cursor: pointer;display: block;width: 100%;margin-bottom: 0;padding: 0.3em;box-sizing: border-box;text-align: center;}#sk-container-id-2 label.sk-toggleable__label-arrow:before {content: \"▸\";float: left;margin-right: 0.25em;color: #696969;}#sk-container-id-2 label.sk-toggleable__label-arrow:hover:before {color: black;}#sk-container-id-2 div.sk-estimator:hover label.sk-toggleable__label-arrow:before {color: black;}#sk-container-id-2 div.sk-toggleable__content {max-height: 0;max-width: 0;overflow: hidden;text-align: left;background-color: #f0f8ff;}#sk-container-id-2 div.sk-toggleable__content pre {margin: 0.2em;color: black;border-radius: 0.25em;background-color: #f0f8ff;}#sk-container-id-2 input.sk-toggleable__control:checked~div.sk-toggleable__content {max-height: 200px;max-width: 100%;overflow: auto;}#sk-container-id-2 input.sk-toggleable__control:checked~label.sk-toggleable__label-arrow:before {content: \"▾\";}#sk-container-id-2 div.sk-estimator input.sk-toggleable__control:checked~label.sk-toggleable__label {background-color: #d4ebff;}#sk-container-id-2 div.sk-label input.sk-toggleable__control:checked~label.sk-toggleable__label {background-color: #d4ebff;}#sk-container-id-2 input.sk-hidden--visually {border: 0;clip: rect(1px 1px 1px 1px);clip: rect(1px, 1px, 1px, 1px);height: 1px;margin: -1px;overflow: hidden;padding: 0;position: absolute;width: 1px;}#sk-container-id-2 div.sk-estimator {font-family: monospace;background-color: #f0f8ff;border: 1px dotted black;border-radius: 0.25em;box-sizing: border-box;margin-bottom: 0.5em;}#sk-container-id-2 div.sk-estimator:hover {background-color: #d4ebff;}#sk-container-id-2 div.sk-parallel-item::after {content: \"\";width: 100%;border-bottom: 1px solid gray;flex-grow: 1;}#sk-container-id-2 div.sk-label:hover label.sk-toggleable__label {background-color: #d4ebff;}#sk-container-id-2 div.sk-serial::before {content: \"\";position: absolute;border-left: 1px solid gray;box-sizing: border-box;top: 0;bottom: 0;left: 50%;z-index: 0;}#sk-container-id-2 div.sk-serial {display: flex;flex-direction: column;align-items: center;background-color: white;padding-right: 0.2em;padding-left: 0.2em;position: relative;}#sk-container-id-2 div.sk-item {position: relative;z-index: 1;}#sk-container-id-2 div.sk-parallel {display: flex;align-items: stretch;justify-content: center;background-color: white;position: relative;}#sk-container-id-2 div.sk-item::before, #sk-container-id-2 div.sk-parallel-item::before {content: \"\";position: absolute;border-left: 1px solid gray;box-sizing: border-box;top: 0;bottom: 0;left: 50%;z-index: -1;}#sk-container-id-2 div.sk-parallel-item {display: flex;flex-direction: column;z-index: 1;position: relative;background-color: white;}#sk-container-id-2 div.sk-parallel-item:first-child::after {align-self: flex-end;width: 50%;}#sk-container-id-2 div.sk-parallel-item:last-child::after {align-self: flex-start;width: 50%;}#sk-container-id-2 div.sk-parallel-item:only-child::after {width: 0;}#sk-container-id-2 div.sk-dashed-wrapped {border: 1px dashed gray;margin: 0 0.4em 0.5em 0.4em;box-sizing: border-box;padding-bottom: 0.4em;background-color: white;}#sk-container-id-2 div.sk-label label {font-family: monospace;font-weight: bold;display: inline-block;line-height: 1.2em;}#sk-container-id-2 div.sk-label-container {text-align: center;}#sk-container-id-2 div.sk-container {/* jupyter's `normalize.less` sets `[hidden] { display: none; }` but bootstrap.min.css set `[hidden] { display: none !important; }` so we also need the `!important` here to be able to override the default hidden behavior on the sphinx rendered scikit-learn.org. See: https://github.com/scikit-learn/scikit-learn/issues/21755 */display: inline-block !important;position: relative;}#sk-container-id-2 div.sk-text-repr-fallback {display: none;}</style><div id=\"sk-container-id-2\" class=\"sk-top-container\"><div class=\"sk-text-repr-fallback\"><pre>LogisticRegression(class_weight=&#x27;balanced&#x27;)</pre><b>In a Jupyter environment, please rerun this cell to show the HTML representation or trust the notebook. <br />On GitHub, the HTML representation is unable to render, please try loading this page with nbviewer.org.</b></div><div class=\"sk-container\" hidden><div class=\"sk-item\"><div class=\"sk-estimator sk-toggleable\"><input class=\"sk-toggleable__control sk-hidden--visually\" id=\"sk-estimator-id-2\" type=\"checkbox\" checked><label for=\"sk-estimator-id-2\" class=\"sk-toggleable__label sk-toggleable__label-arrow\">LogisticRegression</label><div class=\"sk-toggleable__content\"><pre>LogisticRegression(class_weight=&#x27;balanced&#x27;)</pre></div></div></div></div></div>"
      ],
      "text/plain": [
       "LogisticRegression(class_weight='balanced')"
      ]
     },
     "execution_count": 62,
     "metadata": {},
     "output_type": "execute_result"
    }
   ],
   "source": [
    "classifier2.fit(X_train,Y_train)"
   ]
  },
  {
   "cell_type": "code",
   "execution_count": 63,
   "id": "2de8293d-f668-4340-b4ad-0f16afc7746b",
   "metadata": {},
   "outputs": [],
   "source": [
    "predicted_values_ts2 = classifier2.predict(X_test)"
   ]
  },
  {
   "cell_type": "code",
   "execution_count": 64,
   "id": "570175a0-3d36-40ef-9733-2343e5af68d9",
   "metadata": {},
   "outputs": [
    {
     "name": "stdout",
     "output_type": "stream",
     "text": [
      "              precision    recall  f1-score   support\n",
      "\n",
      "           0       0.90      0.62      0.74     11482\n",
      "           1       0.22      0.59      0.32      2031\n",
      "\n",
      "    accuracy                           0.62     13513\n",
      "   macro avg       0.56      0.61      0.53     13513\n",
      "weighted avg       0.79      0.62      0.67     13513\n",
      "\n"
     ]
    }
   ],
   "source": [
    "print(classification_report(Y_test,predicted_values_ts2))"
   ]
  },
  {
   "cell_type": "markdown",
   "id": "718b4c96-4280-485f-96b6-6c3b5a532a01",
   "metadata": {},
   "source": [
    "* WE got 62% acccracy after removing outliers and multicollinearirty "
   ]
  }
 ],
 "metadata": {
  "kernelspec": {
   "display_name": "Python 3 (ipykernel)",
   "language": "python",
   "name": "python3"
  },
  "language_info": {
   "codemirror_mode": {
    "name": "ipython",
    "version": 3
   },
   "file_extension": ".py",
   "mimetype": "text/x-python",
   "name": "python",
   "nbconvert_exporter": "python",
   "pygments_lexer": "ipython3",
   "version": "3.10.13"
  }
 },
 "nbformat": 4,
 "nbformat_minor": 5
}
